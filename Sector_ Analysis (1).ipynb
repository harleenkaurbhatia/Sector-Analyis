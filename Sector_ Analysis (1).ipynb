{
 "cells": [
  {
   "cell_type": "code",
   "execution_count": 1,
   "id": "227e641f-d6f6-478f-bf08-68667e943420",
   "metadata": {},
   "outputs": [],
   "source": [
    "import yfinance as yf\n",
    "import pandas as pd"
   ]
  },
  {
   "cell_type": "code",
   "execution_count": 2,
   "id": "c7eae2db-cc4b-466f-bc4e-533a02e3609b",
   "metadata": {},
   "outputs": [],
   "source": [
    "indices = {\n",
    "    'NIFTY FIFTY': '^NSEI',\n",
    "    'Nifty Auto': '^CNXAUTO',\n",
    "    'Nifty FMCG': '^CNXFMCG',\n",
    "    'Nifty IT': '^CNXIT',\n",
    "    'Nifty Media': '^CNXMEDIA',\n",
    "    'Nifty Metal': '^CNXMETAL',\n",
    "    \n",
    "    'Nifty Realty': '^CNXREALTY'\n",
    "}\n"
   ]
  },
  {
   "cell_type": "code",
   "execution_count": 3,
   "id": "8344c81e-0024-4637-bacf-c397cd1d9ff8",
   "metadata": {},
   "outputs": [],
   "source": [
    "period = '10y'"
   ]
  },
  {
   "cell_type": "code",
   "execution_count": 4,
   "id": "46a839f2-e390-491a-9536-d866f57c8e3a",
   "metadata": {},
   "outputs": [
    {
     "name": "stderr",
     "output_type": "stream",
     "text": [
      "[*********************100%%**********************]  1 of 1 completed\n",
      "[*********************100%%**********************]  1 of 1 completed\n",
      "[*********************100%%**********************]  1 of 1 completed\n",
      "[*********************100%%**********************]  1 of 1 completed\n",
      "[*********************100%%**********************]  1 of 1 completed\n",
      "[*********************100%%**********************]  1 of 1 completed\n",
      "[*********************100%%**********************]  1 of 1 completed\n"
     ]
    }
   ],
   "source": [
    "data = {}\n",
    "for name, symbol in indices.items():\n",
    "    data[name] = yf.download(symbol, period=period)"
   ]
  },
  {
   "cell_type": "code",
   "execution_count": 5,
   "id": "137a8540-741c-4338-9d2d-a4ff36a25274",
   "metadata": {},
   "outputs": [],
   "source": [
    "nifty_data = pd.concat({k: v['Adj Close'] for k, v in data.items()}, axis=1)\n",
    "nifty_data.columns = list(data.keys())"
   ]
  },
  {
   "cell_type": "code",
   "execution_count": 6,
   "id": "de977bf4-db9b-46f3-b195-81a1a60da677",
   "metadata": {},
   "outputs": [
    {
     "data": {
      "text/html": [
       "<div>\n",
       "<style scoped>\n",
       "    .dataframe tbody tr th:only-of-type {\n",
       "        vertical-align: middle;\n",
       "    }\n",
       "\n",
       "    .dataframe tbody tr th {\n",
       "        vertical-align: top;\n",
       "    }\n",
       "\n",
       "    .dataframe thead th {\n",
       "        text-align: right;\n",
       "    }\n",
       "</style>\n",
       "<table border=\"1\" class=\"dataframe\">\n",
       "  <thead>\n",
       "    <tr style=\"text-align: right;\">\n",
       "      <th></th>\n",
       "      <th>NIFTY FIFTY</th>\n",
       "      <th>Nifty Auto</th>\n",
       "      <th>Nifty FMCG</th>\n",
       "      <th>Nifty IT</th>\n",
       "      <th>Nifty Media</th>\n",
       "      <th>Nifty Metal</th>\n",
       "      <th>Nifty Realty</th>\n",
       "    </tr>\n",
       "    <tr>\n",
       "      <th>Date</th>\n",
       "      <th></th>\n",
       "      <th></th>\n",
       "      <th></th>\n",
       "      <th></th>\n",
       "      <th></th>\n",
       "      <th></th>\n",
       "      <th></th>\n",
       "    </tr>\n",
       "  </thead>\n",
       "  <tbody>\n",
       "    <tr>\n",
       "      <th>2014-05-26</th>\n",
       "      <td>7359.049805</td>\n",
       "      <td>6502.000000</td>\n",
       "      <td>17736.900391</td>\n",
       "      <td>9061.000000</td>\n",
       "      <td>1898.199951</td>\n",
       "      <td>3149.750000</td>\n",
       "      <td>241.050003</td>\n",
       "    </tr>\n",
       "    <tr>\n",
       "      <th>2014-05-27</th>\n",
       "      <td>7318.000000</td>\n",
       "      <td>6435.649902</td>\n",
       "      <td>17713.900391</td>\n",
       "      <td>9101.849609</td>\n",
       "      <td>1904.949951</td>\n",
       "      <td>3155.649902</td>\n",
       "      <td>238.149994</td>\n",
       "    </tr>\n",
       "    <tr>\n",
       "      <th>2014-05-28</th>\n",
       "      <td>7329.649902</td>\n",
       "      <td>6374.750000</td>\n",
       "      <td>17698.550781</td>\n",
       "      <td>9237.250000</td>\n",
       "      <td>1890.900024</td>\n",
       "      <td>3111.000000</td>\n",
       "      <td>241.250000</td>\n",
       "    </tr>\n",
       "    <tr>\n",
       "      <th>2014-05-29</th>\n",
       "      <td>7235.649902</td>\n",
       "      <td>6375.250000</td>\n",
       "      <td>17621.699219</td>\n",
       "      <td>8927.400391</td>\n",
       "      <td>1903.099976</td>\n",
       "      <td>3083.850098</td>\n",
       "      <td>238.350006</td>\n",
       "    </tr>\n",
       "    <tr>\n",
       "      <th>2014-05-30</th>\n",
       "      <td>7229.950195</td>\n",
       "      <td>6385.100098</td>\n",
       "      <td>17831.599609</td>\n",
       "      <td>8970.299805</td>\n",
       "      <td>1951.300049</td>\n",
       "      <td>3096.899902</td>\n",
       "      <td>242.949997</td>\n",
       "    </tr>\n",
       "  </tbody>\n",
       "</table>\n",
       "</div>"
      ],
      "text/plain": [
       "            NIFTY FIFTY   Nifty Auto    Nifty FMCG     Nifty IT  Nifty Media  \\\n",
       "Date                                                                           \n",
       "2014-05-26  7359.049805  6502.000000  17736.900391  9061.000000  1898.199951   \n",
       "2014-05-27  7318.000000  6435.649902  17713.900391  9101.849609  1904.949951   \n",
       "2014-05-28  7329.649902  6374.750000  17698.550781  9237.250000  1890.900024   \n",
       "2014-05-29  7235.649902  6375.250000  17621.699219  8927.400391  1903.099976   \n",
       "2014-05-30  7229.950195  6385.100098  17831.599609  8970.299805  1951.300049   \n",
       "\n",
       "            Nifty Metal  Nifty Realty  \n",
       "Date                                   \n",
       "2014-05-26  3149.750000    241.050003  \n",
       "2014-05-27  3155.649902    238.149994  \n",
       "2014-05-28  3111.000000    241.250000  \n",
       "2014-05-29  3083.850098    238.350006  \n",
       "2014-05-30  3096.899902    242.949997  "
      ]
     },
     "execution_count": 6,
     "metadata": {},
     "output_type": "execute_result"
    }
   ],
   "source": [
    "nifty_data.head()"
   ]
  },
  {
   "cell_type": "code",
   "execution_count": 7,
   "id": "b52b9a0d-d01b-49b3-a546-33bfeb6bea0b",
   "metadata": {},
   "outputs": [],
   "source": [
    "\n",
    "\n",
    "macro_df = pd.read_csv(r\"C:\\Users\\ACER\\Downloads\\india-inflation-rate-cpi.csv\")\n"
   ]
  },
  {
   "cell_type": "code",
   "execution_count": 8,
   "id": "bc21cfb3-5d97-4d53-99af-ba1dc5fa14c4",
   "metadata": {},
   "outputs": [],
   "source": [
    "\n",
    "macro_df = pd.DataFrame(macro_df)"
   ]
  },
  {
   "cell_type": "code",
   "execution_count": 16,
   "id": "99d298fe-ab5b-4d1d-a18d-63cde1221544",
   "metadata": {},
   "outputs": [],
   "source": [
    "\n",
    "macro_df['Date'] = pd.to_datetime(macro_df['Date'] , format='%Y-%m-%d')"
   ]
  },
  {
   "cell_type": "code",
   "execution_count": 17,
   "id": "0ebde60c-ed5d-4458-82b5-46d94b27bf2a",
   "metadata": {},
   "outputs": [
    {
     "name": "stdout",
     "output_type": "stream",
     "text": [
      "        Date   Inflation Rate (%)   GDP ( Billions of US $)\n",
      "0 1960-12-31               1.7799                 37.029884\n",
      "1 1961-12-31               1.6952                 39.232436\n",
      "2 1962-12-31               3.6322                 42.161482\n",
      "3 1963-12-31               2.9462                 48.421923\n",
      "4 1964-12-31              13.3553                 56.480290\n"
     ]
    }
   ],
   "source": [
    "print(macro_df.head())"
   ]
  },
  {
   "cell_type": "code",
   "execution_count": 18,
   "id": "1a2a2870-a118-4865-aa05-5c07edd44a26",
   "metadata": {},
   "outputs": [],
   "source": [
    "datai= pd.merge(nifty_data, macro_df, on='Date')"
   ]
  },
  {
   "cell_type": "raw",
   "id": "10d7f04a-acef-4fbb-b4e9-17223e955665",
   "metadata": {},
   "source": []
  },
  {
   "cell_type": "code",
   "execution_count": 19,
   "id": "31d24b3f-62f9-4aea-ad04-17f51a4e2076",
   "metadata": {},
   "outputs": [
    {
     "name": "stdout",
     "output_type": "stream",
     "text": [
      "        Date   NIFTY FIFTY   Nifty Auto    Nifty FMCG      Nifty IT  \\\n",
      "0 2014-12-31   8282.700195  8281.200195  20126.199219  11216.299805   \n",
      "1 2015-12-31   7946.350098  8254.750000  20192.650391           NaN   \n",
      "2 2018-12-31  10862.549805  9235.549805  30516.650391  14440.299805   \n",
      "3 2019-12-31  12168.450195  8248.299805  30121.500000  15652.400391   \n",
      "4 2020-12-31  13981.750000  9193.500000  34177.101562  24251.349609   \n",
      "\n",
      "   Nifty Media  Nifty Metal  Nifty Realty   Inflation Rate (%)  \\\n",
      "0  2387.100098  2661.050049    203.100006               6.6657   \n",
      "1  2633.000000  1826.849976    172.600006               4.9070   \n",
      "2  2566.199951  3154.600098    232.350006               3.9388   \n",
      "3  1803.599976  2801.300049    298.549988               3.7295   \n",
      "4  1648.949951  3254.649902    313.850006               6.6234   \n",
      "\n",
      "    GDP ( Billions of US $)  \n",
      "0               2039.126479  \n",
      "1               2103.588360  \n",
      "2               2702.929642  \n",
      "3               2835.606257  \n",
      "4               2671.595406  \n"
     ]
    }
   ],
   "source": [
    "print(datai.head())\n"
   ]
  },
  {
   "cell_type": "code",
   "execution_count": 25,
   "id": "1b424548-8728-416c-9269-cece1ed3ba84",
   "metadata": {},
   "outputs": [],
   "source": [
    "extended_macro_data = macro_df.copy()\n",
    "extended_macro_data['Date'] = extended_macro_data['Date'] + pd.DateOffset(years=1)\n"
   ]
  },
  {
   "cell_type": "code",
   "execution_count": 28,
   "id": "f469c865-a097-43ec-ac8b-18c98aa1e0cd",
   "metadata": {},
   "outputs": [],
   "source": [
    "combined_data = pd.merge(nifty_data, extended_macro_data, on='Date', how='inner')"
   ]
  },
  {
   "cell_type": "code",
   "execution_count": 30,
   "id": "e21bbf31-af2c-42d5-b639-d95fc826c548",
   "metadata": {},
   "outputs": [],
   "source": [
    "for col in combined_data.columns:\n",
    "    if combined_data[col].dtype == 'object' and col != 'Date':\n",
    "        combined_data[col] = pd.to_numeric(combined_data[col], errors='coerce')\n"
   ]
  },
  {
   "cell_type": "code",
   "execution_count": 34,
   "id": "2086404d-ed18-46a6-a216-ba9e060f725f",
   "metadata": {},
   "outputs": [],
   "source": [
    "combined_data = combined_data.dropna()"
   ]
  },
  {
   "cell_type": "code",
   "execution_count": 35,
   "id": "058f8616-7115-44c3-ba09-5cd0f828cd86",
   "metadata": {},
   "outputs": [],
   "source": [
    "features = [' GDP ( Billions of US $)', ' Inflation Rate (%)']\n",
    "target = 'Nifty Auto'  # Predicting one of the Nifty indices as an example"
   ]
  },
  {
   "cell_type": "code",
   "execution_count": 37,
   "id": "52006684-6e43-46cb-8bf1-efe692424508",
   "metadata": {},
   "outputs": [
    {
     "ename": "KeyError",
     "evalue": "\"None of ['Date'] are in the columns\"",
     "output_type": "error",
     "traceback": [
      "\u001b[1;31m---------------------------------------------------------------------------\u001b[0m",
      "\u001b[1;31mKeyError\u001b[0m                                  Traceback (most recent call last)",
      "\u001b[1;32m~\\AppData\\Local\\Temp\\ipykernel_14308\\2857266592.py\u001b[0m in \u001b[0;36m?\u001b[1;34m()\u001b[0m\n\u001b[1;32m----> 1\u001b[1;33m \u001b[0mcombined_data\u001b[0m\u001b[1;33m.\u001b[0m\u001b[0mset_index\u001b[0m\u001b[1;33m(\u001b[0m\u001b[1;34m'Date'\u001b[0m\u001b[1;33m,\u001b[0m \u001b[0minplace\u001b[0m\u001b[1;33m=\u001b[0m\u001b[1;32mTrue\u001b[0m\u001b[1;33m)\u001b[0m\u001b[1;33m\u001b[0m\u001b[1;33m\u001b[0m\u001b[0m\n\u001b[0m",
      "\u001b[1;32m~\\AppData\\Local\\Packages\\PythonSoftwareFoundation.Python.3.12_qbz5n2kfra8p0\\LocalCache\\local-packages\\Python312\\site-packages\\pandas\\core\\frame.py\u001b[0m in \u001b[0;36m?\u001b[1;34m(self, keys, drop, append, inplace, verify_integrity)\u001b[0m\n\u001b[0;32m   6118\u001b[0m                     \u001b[1;32mif\u001b[0m \u001b[1;32mnot\u001b[0m \u001b[0mfound\u001b[0m\u001b[1;33m:\u001b[0m\u001b[1;33m\u001b[0m\u001b[1;33m\u001b[0m\u001b[0m\n\u001b[0;32m   6119\u001b[0m                         \u001b[0mmissing\u001b[0m\u001b[1;33m.\u001b[0m\u001b[0mappend\u001b[0m\u001b[1;33m(\u001b[0m\u001b[0mcol\u001b[0m\u001b[1;33m)\u001b[0m\u001b[1;33m\u001b[0m\u001b[1;33m\u001b[0m\u001b[0m\n\u001b[0;32m   6120\u001b[0m \u001b[1;33m\u001b[0m\u001b[0m\n\u001b[0;32m   6121\u001b[0m         \u001b[1;32mif\u001b[0m \u001b[0mmissing\u001b[0m\u001b[1;33m:\u001b[0m\u001b[1;33m\u001b[0m\u001b[1;33m\u001b[0m\u001b[0m\n\u001b[1;32m-> 6122\u001b[1;33m             \u001b[1;32mraise\u001b[0m \u001b[0mKeyError\u001b[0m\u001b[1;33m(\u001b[0m\u001b[1;33mf\"\u001b[0m\u001b[1;33mNone of \u001b[0m\u001b[1;33m{\u001b[0m\u001b[0mmissing\u001b[0m\u001b[1;33m}\u001b[0m\u001b[1;33m are in the columns\u001b[0m\u001b[1;33m\"\u001b[0m\u001b[1;33m)\u001b[0m\u001b[1;33m\u001b[0m\u001b[1;33m\u001b[0m\u001b[0m\n\u001b[0m\u001b[0;32m   6123\u001b[0m \u001b[1;33m\u001b[0m\u001b[0m\n\u001b[0;32m   6124\u001b[0m         \u001b[1;32mif\u001b[0m \u001b[0minplace\u001b[0m\u001b[1;33m:\u001b[0m\u001b[1;33m\u001b[0m\u001b[1;33m\u001b[0m\u001b[0m\n\u001b[0;32m   6125\u001b[0m             \u001b[0mframe\u001b[0m \u001b[1;33m=\u001b[0m \u001b[0mself\u001b[0m\u001b[1;33m\u001b[0m\u001b[1;33m\u001b[0m\u001b[0m\n",
      "\u001b[1;31mKeyError\u001b[0m: \"None of ['Date'] are in the columns\""
     ]
    }
   ],
   "source": [
    "combined_data.set_index('Date', inplace=True)\n"
   ]
  },
  {
   "cell_type": "code",
   "execution_count": 39,
   "id": "14453c35-e3dc-4a1d-a11f-ac58bb76d7e2",
   "metadata": {},
   "outputs": [],
   "source": [
    "endog = combined_data[target]\n",
    "exog = combined_data[features]"
   ]
  },
  {
   "cell_type": "code",
   "execution_count": 40,
   "id": "4f8bd3c2-f4b0-4c65-b9be-036c2b2bd423",
   "metadata": {},
   "outputs": [],
   "source": [
    "train_endog = endog[:'2014']\n",
    "test_endog = endog['2022':]"
   ]
  },
  {
   "cell_type": "code",
   "execution_count": 44,
   "id": "659f897d-032c-4055-8803-b78d5bf1a769",
   "metadata": {},
   "outputs": [],
   "source": [
    "train_exog = exog[:'2014']\n",
    "test_exog = exog['2022':]"
   ]
  },
  {
   "cell_type": "code",
   "execution_count": 45,
   "id": "7a0e2e5a-a6d7-48d6-b13f-d72bd3b1a0d1",
   "metadata": {},
   "outputs": [
    {
     "name": "stderr",
     "output_type": "stream",
     "text": [
      "C:\\Users\\ACER\\AppData\\Local\\Packages\\PythonSoftwareFoundation.Python.3.12_qbz5n2kfra8p0\\LocalCache\\local-packages\\Python312\\site-packages\\statsmodels\\tsa\\base\\tsa_model.py:473: ValueWarning: A date index has been provided, but it has no associated frequency information and so will be ignored when e.g. forecasting.\n",
      "  self._init_dates(dates, freq)\n",
      "C:\\Users\\ACER\\AppData\\Local\\Packages\\PythonSoftwareFoundation.Python.3.12_qbz5n2kfra8p0\\LocalCache\\local-packages\\Python312\\site-packages\\statsmodels\\tsa\\base\\tsa_model.py:473: ValueWarning: A date index has been provided, but it has no associated frequency information and so will be ignored when e.g. forecasting.\n",
      "  self._init_dates(dates, freq)\n",
      "C:\\Users\\ACER\\AppData\\Local\\Packages\\PythonSoftwareFoundation.Python.3.12_qbz5n2kfra8p0\\LocalCache\\local-packages\\Python312\\site-packages\\statsmodels\\tsa\\statespace\\sarimax.py:866: UserWarning: Too few observations to estimate starting parameters for ARMA and trend. All parameters except for variances will be set to zeros.\n",
      "  warn('Too few observations to estimate starting parameters%s.'\n",
      "C:\\Users\\ACER\\AppData\\Local\\Packages\\PythonSoftwareFoundation.Python.3.12_qbz5n2kfra8p0\\LocalCache\\local-packages\\Python312\\site-packages\\statsmodels\\tsa\\statespace\\sarimax.py:866: UserWarning: Too few observations to estimate starting parameters for seasonal ARMA. All parameters except for variances will be set to zeros.\n",
      "  warn('Too few observations to estimate starting parameters%s.'\n"
     ]
    }
   ],
   "source": [
    "from statsmodels.tsa.statespace.sarimax import SARIMAX\n",
    "model = SARIMAX(train_endog, exog=train_exog, order=(1, 1, 1), seasonal_order=(1, 1, 1, 12))\n",
    "results = model.fit()\n"
   ]
  },
  {
   "cell_type": "code",
   "execution_count": 46,
   "id": "d28d1865-edf8-43be-a6bf-6e38e2a7bddf",
   "metadata": {},
   "outputs": [
    {
     "ename": "IndexError",
     "evalue": "index 0 is out of bounds for axis 0 with size 0",
     "output_type": "error",
     "traceback": [
      "\u001b[1;31m---------------------------------------------------------------------------\u001b[0m",
      "\u001b[1;31mIndexError\u001b[0m                                Traceback (most recent call last)",
      "Cell \u001b[1;32mIn[46], line 1\u001b[0m\n\u001b[1;32m----> 1\u001b[0m pred \u001b[38;5;241m=\u001b[39m results\u001b[38;5;241m.\u001b[39mget_prediction(start\u001b[38;5;241m=\u001b[39m\u001b[43mtest_endog\u001b[49m\u001b[38;5;241;43m.\u001b[39;49m\u001b[43mindex\u001b[49m\u001b[43m[\u001b[49m\u001b[38;5;241;43m0\u001b[39;49m\u001b[43m]\u001b[49m, end\u001b[38;5;241m=\u001b[39mtest_endog\u001b[38;5;241m.\u001b[39mindex[\u001b[38;5;241m-\u001b[39m\u001b[38;5;241m1\u001b[39m], exog\u001b[38;5;241m=\u001b[39mtest_exog)\n\u001b[0;32m      2\u001b[0m pred_mean \u001b[38;5;241m=\u001b[39m pred\u001b[38;5;241m.\u001b[39mpredicted_mean\n\u001b[0;32m      3\u001b[0m pred_ci \u001b[38;5;241m=\u001b[39m pred\u001b[38;5;241m.\u001b[39mconf_int()\n",
      "File \u001b[1;32m~\\AppData\\Local\\Packages\\PythonSoftwareFoundation.Python.3.12_qbz5n2kfra8p0\\LocalCache\\local-packages\\Python312\\site-packages\\pandas\\core\\indexes\\base.py:5389\u001b[0m, in \u001b[0;36mIndex.__getitem__\u001b[1;34m(self, key)\u001b[0m\n\u001b[0;32m   5386\u001b[0m \u001b[38;5;28;01mif\u001b[39;00m is_integer(key) \u001b[38;5;129;01mor\u001b[39;00m is_float(key):\n\u001b[0;32m   5387\u001b[0m     \u001b[38;5;66;03m# GH#44051 exclude bool, which would return a 2d ndarray\u001b[39;00m\n\u001b[0;32m   5388\u001b[0m     key \u001b[38;5;241m=\u001b[39m com\u001b[38;5;241m.\u001b[39mcast_scalar_indexer(key)\n\u001b[1;32m-> 5389\u001b[0m     \u001b[38;5;28;01mreturn\u001b[39;00m \u001b[43mgetitem\u001b[49m\u001b[43m(\u001b[49m\u001b[43mkey\u001b[49m\u001b[43m)\u001b[49m\n\u001b[0;32m   5391\u001b[0m \u001b[38;5;28;01mif\u001b[39;00m \u001b[38;5;28misinstance\u001b[39m(key, \u001b[38;5;28mslice\u001b[39m):\n\u001b[0;32m   5392\u001b[0m     \u001b[38;5;66;03m# This case is separated from the conditional above to avoid\u001b[39;00m\n\u001b[0;32m   5393\u001b[0m     \u001b[38;5;66;03m# pessimization com.is_bool_indexer and ndim checks.\u001b[39;00m\n\u001b[0;32m   5394\u001b[0m     \u001b[38;5;28;01mreturn\u001b[39;00m \u001b[38;5;28mself\u001b[39m\u001b[38;5;241m.\u001b[39m_getitem_slice(key)\n",
      "File \u001b[1;32m~\\AppData\\Local\\Packages\\PythonSoftwareFoundation.Python.3.12_qbz5n2kfra8p0\\LocalCache\\local-packages\\Python312\\site-packages\\pandas\\core\\arrays\\datetimelike.py:381\u001b[0m, in \u001b[0;36mDatetimeLikeArrayMixin.__getitem__\u001b[1;34m(self, key)\u001b[0m\n\u001b[0;32m    374\u001b[0m \u001b[38;5;250m\u001b[39m\u001b[38;5;124;03m\"\"\"\u001b[39;00m\n\u001b[0;32m    375\u001b[0m \u001b[38;5;124;03mThis getitem defers to the underlying array, which by-definition can\u001b[39;00m\n\u001b[0;32m    376\u001b[0m \u001b[38;5;124;03monly handle list-likes, slices, and integer scalars\u001b[39;00m\n\u001b[0;32m    377\u001b[0m \u001b[38;5;124;03m\"\"\"\u001b[39;00m\n\u001b[0;32m    378\u001b[0m \u001b[38;5;66;03m# Use cast as we know we will get back a DatetimeLikeArray or DTScalar,\u001b[39;00m\n\u001b[0;32m    379\u001b[0m \u001b[38;5;66;03m# but skip evaluating the Union at runtime for performance\u001b[39;00m\n\u001b[0;32m    380\u001b[0m \u001b[38;5;66;03m# (see https://github.com/pandas-dev/pandas/pull/44624)\u001b[39;00m\n\u001b[1;32m--> 381\u001b[0m result \u001b[38;5;241m=\u001b[39m cast(\u001b[38;5;124m\"\u001b[39m\u001b[38;5;124mUnion[Self, DTScalarOrNaT]\u001b[39m\u001b[38;5;124m\"\u001b[39m, \u001b[38;5;28;43msuper\u001b[39;49m\u001b[43m(\u001b[49m\u001b[43m)\u001b[49m\u001b[38;5;241;43m.\u001b[39;49m\u001b[38;5;21;43m__getitem__\u001b[39;49m\u001b[43m(\u001b[49m\u001b[43mkey\u001b[49m\u001b[43m)\u001b[49m)\n\u001b[0;32m    382\u001b[0m \u001b[38;5;28;01mif\u001b[39;00m lib\u001b[38;5;241m.\u001b[39mis_scalar(result):\n\u001b[0;32m    383\u001b[0m     \u001b[38;5;28;01mreturn\u001b[39;00m result\n",
      "File \u001b[1;32m~\\AppData\\Local\\Packages\\PythonSoftwareFoundation.Python.3.12_qbz5n2kfra8p0\\LocalCache\\local-packages\\Python312\\site-packages\\pandas\\core\\arrays\\_mixins.py:284\u001b[0m, in \u001b[0;36mNDArrayBackedExtensionArray.__getitem__\u001b[1;34m(self, key)\u001b[0m\n\u001b[0;32m    278\u001b[0m \u001b[38;5;28;01mdef\u001b[39;00m \u001b[38;5;21m__getitem__\u001b[39m(\n\u001b[0;32m    279\u001b[0m     \u001b[38;5;28mself\u001b[39m,\n\u001b[0;32m    280\u001b[0m     key: PositionalIndexer2D,\n\u001b[0;32m    281\u001b[0m ) \u001b[38;5;241m-\u001b[39m\u001b[38;5;241m>\u001b[39m Self \u001b[38;5;241m|\u001b[39m Any:\n\u001b[0;32m    282\u001b[0m     \u001b[38;5;28;01mif\u001b[39;00m lib\u001b[38;5;241m.\u001b[39mis_integer(key):\n\u001b[0;32m    283\u001b[0m         \u001b[38;5;66;03m# fast-path\u001b[39;00m\n\u001b[1;32m--> 284\u001b[0m         result \u001b[38;5;241m=\u001b[39m \u001b[38;5;28;43mself\u001b[39;49m\u001b[38;5;241;43m.\u001b[39;49m\u001b[43m_ndarray\u001b[49m\u001b[43m[\u001b[49m\u001b[43mkey\u001b[49m\u001b[43m]\u001b[49m\n\u001b[0;32m    285\u001b[0m         \u001b[38;5;28;01mif\u001b[39;00m \u001b[38;5;28mself\u001b[39m\u001b[38;5;241m.\u001b[39mndim \u001b[38;5;241m==\u001b[39m \u001b[38;5;241m1\u001b[39m:\n\u001b[0;32m    286\u001b[0m             \u001b[38;5;28;01mreturn\u001b[39;00m \u001b[38;5;28mself\u001b[39m\u001b[38;5;241m.\u001b[39m_box_func(result)\n",
      "\u001b[1;31mIndexError\u001b[0m: index 0 is out of bounds for axis 0 with size 0"
     ]
    }
   ],
   "source": [
    "pred = results.get_prediction(start=test_endog.index[0], end=test_endog.index[-1], exog=test_exog)\n",
    "pred_mean = pred.predicted_mean\n",
    "pred_ci = pred.conf_int()\n"
   ]
  },
  {
   "cell_type": "code",
   "execution_count": 49,
   "id": "ba976a62-482e-45cb-a8e5-08e03cc90754",
   "metadata": {},
   "outputs": [
    {
     "ename": "NameError",
     "evalue": "name 'pred_mean' is not defined",
     "output_type": "error",
     "traceback": [
      "\u001b[1;31m---------------------------------------------------------------------------\u001b[0m",
      "\u001b[1;31mNameError\u001b[0m                                 Traceback (most recent call last)",
      "Cell \u001b[1;32mIn[49], line 5\u001b[0m\n\u001b[0;32m      3\u001b[0m plt\u001b[38;5;241m.\u001b[39mplot(train_endog\u001b[38;5;241m.\u001b[39mindex, train_endog, label\u001b[38;5;241m=\u001b[39m\u001b[38;5;124m'\u001b[39m\u001b[38;5;124mTrain\u001b[39m\u001b[38;5;124m'\u001b[39m)\n\u001b[0;32m      4\u001b[0m plt\u001b[38;5;241m.\u001b[39mplot(test_endog\u001b[38;5;241m.\u001b[39mindex, test_endog, label\u001b[38;5;241m=\u001b[39m\u001b[38;5;124m'\u001b[39m\u001b[38;5;124mTest\u001b[39m\u001b[38;5;124m'\u001b[39m)\n\u001b[1;32m----> 5\u001b[0m plt\u001b[38;5;241m.\u001b[39mplot(\u001b[43mpred_mean\u001b[49m\u001b[38;5;241m.\u001b[39mindex, pred_mean, label\u001b[38;5;241m=\u001b[39m\u001b[38;5;124m'\u001b[39m\u001b[38;5;124mPredicted\u001b[39m\u001b[38;5;124m'\u001b[39m)\n\u001b[0;32m      6\u001b[0m plt\u001b[38;5;241m.\u001b[39mfill_between(pred_ci\u001b[38;5;241m.\u001b[39mindex, pred_ci\u001b[38;5;241m.\u001b[39miloc[:, \u001b[38;5;241m0\u001b[39m], pred_ci\u001b[38;5;241m.\u001b[39miloc[:, \u001b[38;5;241m1\u001b[39m], color\u001b[38;5;241m=\u001b[39m\u001b[38;5;124m'\u001b[39m\u001b[38;5;124mk\u001b[39m\u001b[38;5;124m'\u001b[39m, alpha\u001b[38;5;241m=\u001b[39m\u001b[38;5;241m0.2\u001b[39m)\n\u001b[0;32m      7\u001b[0m plt\u001b[38;5;241m.\u001b[39mlegend()\n",
      "\u001b[1;31mNameError\u001b[0m: name 'pred_mean' is not defined"
     ]
    },
    {
     "data": {
      "image/png": "[encoded data removed]",
      "text/plain": [
       "<Figure size 1200x600 with 1 Axes>"
      ]
     },
     "metadata": {},
     "output_type": "display_data"
    }
   ],
   "source": [
    "import matplotlib.pyplot as plt\n",
    "plt.figure(figsize=(12, 6))\n",
    "plt.plot(train_endog.index, train_endog, label='Train')\n",
    "plt.plot(test_endog.index, test_endog, label='Test')\n",
    "plt.plot(pred_mean.index, pred_mean, label='Predicted')\n",
    "plt.fill_between(pred_ci.index, pred_ci.iloc[:, 0], pred_ci.iloc[:, 1], color='k', alpha=0.2)\n",
    "plt.legend()\n",
    "plt.title('Nifty Auto Index Prediction')\n",
    "plt.xlabel('Date')\n",
    "plt.ylabel('Nifty Auto Index Value')\n",
    "plt.show()\n",
    "\n",
    "# Evaluate the model\n",
    "test_forecast = pred.predicted_mean\n",
    "mse = ((test_forecast - test_endog) ** 2).mean()\n",
    "print(f'Test MSE: {mse}')"
   ]
  },
  {
   "cell_type": "code",
   "execution_count": null,
   "id": "2e0ab0c1-bf31-438e-ad42-929d639ad12d",
   "metadata": {},
   "outputs": [],
   "source": [
    "#I tried incorporating the macroeconomic variables into the model by using a similar approach in a model like SARIMAX instead of ARIMA but ended up getting an index error and hence I could not figure out issue with the way data is being indexed or sliced.\n",
    "#"
   ]
  }
 ],
 "metadata": {
  "kernelspec": {
   "display_name": "Python 3 (ipykernel)",
   "language": "python",
   "name": "python3"
  },
  "language_info": {
   "codemirror_mode": {
    "name": "ipython",
    "version": 3
   },
   "file_extension": ".py",
   "mimetype": "text/x-python",
   "name": "python",
   "nbconvert_exporter": "python",
   "pygments_lexer": "ipython3",
   "version": "3.12.3"
  }
 },
 "nbformat": 4,
 "nbformat_minor": 5
}
